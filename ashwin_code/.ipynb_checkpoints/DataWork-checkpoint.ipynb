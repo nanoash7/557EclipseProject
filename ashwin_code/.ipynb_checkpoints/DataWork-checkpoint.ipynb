{
 "cells": [
  {
   "cell_type": "code",
   "execution_count": 1,
   "id": "3a9100d9",
   "metadata": {},
   "outputs": [],
   "source": [
    "import scipy as sci\n",
    "import matplotlib.pyplot as plt\n",
    "import pandas as pd\n",
    "import numpy as np\n",
    "import math"
   ]
  },
  {
   "cell_type": "code",
   "execution_count": 2,
   "id": "69434908",
   "metadata": {
    "scrolled": true
   },
   "outputs": [
    {
     "data": {
      "text/html": [
       "<div>\n",
       "<style scoped>\n",
       "    .dataframe tbody tr th:only-of-type {\n",
       "        vertical-align: middle;\n",
       "    }\n",
       "\n",
       "    .dataframe tbody tr th {\n",
       "        vertical-align: top;\n",
       "    }\n",
       "\n",
       "    .dataframe thead th {\n",
       "        text-align: right;\n",
       "    }\n",
       "</style>\n",
       "<table border=\"1\" class=\"dataframe\">\n",
       "  <thead>\n",
       "    <tr style=\"text-align: right;\">\n",
       "      <th></th>\n",
       "      <th>Catalog Number</th>\n",
       "      <th>Calendar Date</th>\n",
       "      <th>Eclipse Time</th>\n",
       "      <th>Delta T (s)</th>\n",
       "      <th>Lunation Number</th>\n",
       "      <th>Saros Number</th>\n",
       "      <th>Eclipse Type</th>\n",
       "      <th>Gamma</th>\n",
       "      <th>Eclipse Magnitude</th>\n",
       "      <th>Latitude</th>\n",
       "      <th>Longitude</th>\n",
       "      <th>Sun Altitude</th>\n",
       "      <th>Sun Azimuth</th>\n",
       "      <th>Path Width (km)</th>\n",
       "      <th>Central Duration</th>\n",
       "    </tr>\n",
       "  </thead>\n",
       "  <tbody>\n",
       "    <tr>\n",
       "      <th>0</th>\n",
       "      <td>1</td>\n",
       "      <td>-1999 June 12</td>\n",
       "      <td>03:14:51</td>\n",
       "      <td>46438</td>\n",
       "      <td>-49456</td>\n",
       "      <td>5</td>\n",
       "      <td>T</td>\n",
       "      <td>-0.2701</td>\n",
       "      <td>1.0733</td>\n",
       "      <td>6.0N</td>\n",
       "      <td>33.3W</td>\n",
       "      <td>74</td>\n",
       "      <td>344</td>\n",
       "      <td>247</td>\n",
       "      <td>06m37s</td>\n",
       "    </tr>\n",
       "    <tr>\n",
       "      <th>1</th>\n",
       "      <td>2</td>\n",
       "      <td>-1999 December 5</td>\n",
       "      <td>23:45:23</td>\n",
       "      <td>46426</td>\n",
       "      <td>-49450</td>\n",
       "      <td>10</td>\n",
       "      <td>A</td>\n",
       "      <td>-0.2317</td>\n",
       "      <td>0.9382</td>\n",
       "      <td>32.9S</td>\n",
       "      <td>10.8E</td>\n",
       "      <td>76</td>\n",
       "      <td>21</td>\n",
       "      <td>236</td>\n",
       "      <td>06m44s</td>\n",
       "    </tr>\n",
       "    <tr>\n",
       "      <th>2</th>\n",
       "      <td>3</td>\n",
       "      <td>-1998 June 1</td>\n",
       "      <td>18:09:16</td>\n",
       "      <td>46415</td>\n",
       "      <td>-49444</td>\n",
       "      <td>15</td>\n",
       "      <td>T</td>\n",
       "      <td>0.4994</td>\n",
       "      <td>1.0284</td>\n",
       "      <td>46.2N</td>\n",
       "      <td>83.4E</td>\n",
       "      <td>60</td>\n",
       "      <td>151</td>\n",
       "      <td>111</td>\n",
       "      <td>02m15s</td>\n",
       "    </tr>\n",
       "    <tr>\n",
       "      <th>3</th>\n",
       "      <td>4</td>\n",
       "      <td>-1998 November 25</td>\n",
       "      <td>05:57:03</td>\n",
       "      <td>46403</td>\n",
       "      <td>-49438</td>\n",
       "      <td>20</td>\n",
       "      <td>A</td>\n",
       "      <td>-0.9045</td>\n",
       "      <td>0.9806</td>\n",
       "      <td>67.8S</td>\n",
       "      <td>143.8W</td>\n",
       "      <td>25</td>\n",
       "      <td>74</td>\n",
       "      <td>162</td>\n",
       "      <td>01m14s</td>\n",
       "    </tr>\n",
       "    <tr>\n",
       "      <th>4</th>\n",
       "      <td>5</td>\n",
       "      <td>-1997 April 22</td>\n",
       "      <td>13:19:56</td>\n",
       "      <td>46393</td>\n",
       "      <td>-49433</td>\n",
       "      <td>-13</td>\n",
       "      <td>P</td>\n",
       "      <td>-1.4670</td>\n",
       "      <td>0.1611</td>\n",
       "      <td>60.6S</td>\n",
       "      <td>106.4W</td>\n",
       "      <td>0</td>\n",
       "      <td>281</td>\n",
       "      <td>NaN</td>\n",
       "      <td>NaN</td>\n",
       "    </tr>\n",
       "  </tbody>\n",
       "</table>\n",
       "</div>"
      ],
      "text/plain": [
       "   Catalog Number      Calendar Date Eclipse Time  Delta T (s)  \\\n",
       "0               1      -1999 June 12     03:14:51        46438   \n",
       "1               2   -1999 December 5     23:45:23        46426   \n",
       "2               3       -1998 June 1     18:09:16        46415   \n",
       "3               4  -1998 November 25     05:57:03        46403   \n",
       "4               5     -1997 April 22     13:19:56        46393   \n",
       "\n",
       "   Lunation Number  Saros Number Eclipse Type   Gamma  Eclipse Magnitude  \\\n",
       "0           -49456             5            T -0.2701             1.0733   \n",
       "1           -49450            10            A -0.2317             0.9382   \n",
       "2           -49444            15            T  0.4994             1.0284   \n",
       "3           -49438            20            A -0.9045             0.9806   \n",
       "4           -49433           -13            P -1.4670             0.1611   \n",
       "\n",
       "  Latitude Longitude  Sun Altitude  Sun Azimuth Path Width (km)  \\\n",
       "0     6.0N     33.3W            74          344             247   \n",
       "1    32.9S     10.8E            76           21             236   \n",
       "2    46.2N     83.4E            60          151             111   \n",
       "3    67.8S    143.8W            25           74             162   \n",
       "4    60.6S    106.4W             0          281             NaN   \n",
       "\n",
       "  Central Duration  \n",
       "0           06m37s  \n",
       "1           06m44s  \n",
       "2           02m15s  \n",
       "3           01m14s  \n",
       "4              NaN  "
      ]
     },
     "execution_count": 2,
     "metadata": {},
     "output_type": "execute_result"
    }
   ],
   "source": [
    "df = pd.read_csv(\"solar.csv\")\n",
    "df.head()"
   ]
  },
  {
   "cell_type": "code",
   "execution_count": 3,
   "id": "662c4ef8",
   "metadata": {},
   "outputs": [
    {
     "data": {
      "text/html": [
       "<div>\n",
       "<style scoped>\n",
       "    .dataframe tbody tr th:only-of-type {\n",
       "        vertical-align: middle;\n",
       "    }\n",
       "\n",
       "    .dataframe tbody tr th {\n",
       "        vertical-align: top;\n",
       "    }\n",
       "\n",
       "    .dataframe thead th {\n",
       "        text-align: right;\n",
       "    }\n",
       "</style>\n",
       "<table border=\"1\" class=\"dataframe\">\n",
       "  <thead>\n",
       "    <tr style=\"text-align: right;\">\n",
       "      <th></th>\n",
       "      <th>Catalog Number</th>\n",
       "      <th>Calendar Date</th>\n",
       "      <th>Eclipse Time</th>\n",
       "      <th>Delta T (s)</th>\n",
       "      <th>Lunation Number</th>\n",
       "      <th>Saros Number</th>\n",
       "      <th>Eclipse Type</th>\n",
       "      <th>Gamma</th>\n",
       "      <th>Eclipse Magnitude</th>\n",
       "      <th>Latitude</th>\n",
       "      <th>Longitude</th>\n",
       "      <th>Sun Altitude</th>\n",
       "      <th>Sun Azimuth</th>\n",
       "      <th>Path Width (km)</th>\n",
       "      <th>Central Duration</th>\n",
       "      <th>Normalized Latitude</th>\n",
       "      <th>Normalized Longitude</th>\n",
       "    </tr>\n",
       "  </thead>\n",
       "  <tbody>\n",
       "    <tr>\n",
       "      <th>0</th>\n",
       "      <td>1</td>\n",
       "      <td>-1999 June 12</td>\n",
       "      <td>03:14:51</td>\n",
       "      <td>46438</td>\n",
       "      <td>-49456</td>\n",
       "      <td>5</td>\n",
       "      <td>T</td>\n",
       "      <td>-0.2701</td>\n",
       "      <td>1.0733</td>\n",
       "      <td>6.0N</td>\n",
       "      <td>33.3W</td>\n",
       "      <td>74</td>\n",
       "      <td>344</td>\n",
       "      <td>247</td>\n",
       "      <td>06m37s</td>\n",
       "      <td>6.0</td>\n",
       "      <td>-33.3</td>\n",
       "    </tr>\n",
       "    <tr>\n",
       "      <th>1</th>\n",
       "      <td>2</td>\n",
       "      <td>-1999 December 5</td>\n",
       "      <td>23:45:23</td>\n",
       "      <td>46426</td>\n",
       "      <td>-49450</td>\n",
       "      <td>10</td>\n",
       "      <td>A</td>\n",
       "      <td>-0.2317</td>\n",
       "      <td>0.9382</td>\n",
       "      <td>32.9S</td>\n",
       "      <td>10.8E</td>\n",
       "      <td>76</td>\n",
       "      <td>21</td>\n",
       "      <td>236</td>\n",
       "      <td>06m44s</td>\n",
       "      <td>-32.9</td>\n",
       "      <td>10.8</td>\n",
       "    </tr>\n",
       "    <tr>\n",
       "      <th>2</th>\n",
       "      <td>3</td>\n",
       "      <td>-1998 June 1</td>\n",
       "      <td>18:09:16</td>\n",
       "      <td>46415</td>\n",
       "      <td>-49444</td>\n",
       "      <td>15</td>\n",
       "      <td>T</td>\n",
       "      <td>0.4994</td>\n",
       "      <td>1.0284</td>\n",
       "      <td>46.2N</td>\n",
       "      <td>83.4E</td>\n",
       "      <td>60</td>\n",
       "      <td>151</td>\n",
       "      <td>111</td>\n",
       "      <td>02m15s</td>\n",
       "      <td>46.2</td>\n",
       "      <td>83.4</td>\n",
       "    </tr>\n",
       "    <tr>\n",
       "      <th>3</th>\n",
       "      <td>4</td>\n",
       "      <td>-1998 November 25</td>\n",
       "      <td>05:57:03</td>\n",
       "      <td>46403</td>\n",
       "      <td>-49438</td>\n",
       "      <td>20</td>\n",
       "      <td>A</td>\n",
       "      <td>-0.9045</td>\n",
       "      <td>0.9806</td>\n",
       "      <td>67.8S</td>\n",
       "      <td>143.8W</td>\n",
       "      <td>25</td>\n",
       "      <td>74</td>\n",
       "      <td>162</td>\n",
       "      <td>01m14s</td>\n",
       "      <td>-67.8</td>\n",
       "      <td>-143.8</td>\n",
       "    </tr>\n",
       "    <tr>\n",
       "      <th>4</th>\n",
       "      <td>5</td>\n",
       "      <td>-1997 April 22</td>\n",
       "      <td>13:19:56</td>\n",
       "      <td>46393</td>\n",
       "      <td>-49433</td>\n",
       "      <td>-13</td>\n",
       "      <td>P</td>\n",
       "      <td>-1.4670</td>\n",
       "      <td>0.1611</td>\n",
       "      <td>60.6S</td>\n",
       "      <td>106.4W</td>\n",
       "      <td>0</td>\n",
       "      <td>281</td>\n",
       "      <td>NaN</td>\n",
       "      <td>NaN</td>\n",
       "      <td>-60.6</td>\n",
       "      <td>-106.4</td>\n",
       "    </tr>\n",
       "  </tbody>\n",
       "</table>\n",
       "</div>"
      ],
      "text/plain": [
       "   Catalog Number      Calendar Date Eclipse Time  Delta T (s)  \\\n",
       "0               1      -1999 June 12     03:14:51        46438   \n",
       "1               2   -1999 December 5     23:45:23        46426   \n",
       "2               3       -1998 June 1     18:09:16        46415   \n",
       "3               4  -1998 November 25     05:57:03        46403   \n",
       "4               5     -1997 April 22     13:19:56        46393   \n",
       "\n",
       "   Lunation Number  Saros Number Eclipse Type   Gamma  Eclipse Magnitude  \\\n",
       "0           -49456             5            T -0.2701             1.0733   \n",
       "1           -49450            10            A -0.2317             0.9382   \n",
       "2           -49444            15            T  0.4994             1.0284   \n",
       "3           -49438            20            A -0.9045             0.9806   \n",
       "4           -49433           -13            P -1.4670             0.1611   \n",
       "\n",
       "  Latitude Longitude  Sun Altitude  Sun Azimuth Path Width (km)  \\\n",
       "0     6.0N     33.3W            74          344             247   \n",
       "1    32.9S     10.8E            76           21             236   \n",
       "2    46.2N     83.4E            60          151             111   \n",
       "3    67.8S    143.8W            25           74             162   \n",
       "4    60.6S    106.4W             0          281             NaN   \n",
       "\n",
       "  Central Duration Normalized Latitude Normalized Longitude  \n",
       "0           06m37s                 6.0                -33.3  \n",
       "1           06m44s               -32.9                 10.8  \n",
       "2           02m15s                46.2                 83.4  \n",
       "3           01m14s               -67.8               -143.8  \n",
       "4              NaN               -60.6               -106.4  "
      ]
     },
     "execution_count": 3,
     "metadata": {},
     "output_type": "execute_result"
    }
   ],
   "source": [
    "df['Normalized Latitude'] = \"\"\n",
    "df.loc[df[\"Latitude\"].str[-1] == \"N\", 'Normalized Latitude'] = df[\"Latitude\"].str[0:-1]\n",
    "df.loc[df[\"Latitude\"].str[-1] == \"S\", 'Normalized Latitude'] = \"-\" + df[\"Latitude\"].str[0:-1]\n",
    "\n",
    "df['Normalized Longitude'] = \"\"\n",
    "df.loc[df[\"Longitude\"].str[-1] == \"E\", 'Normalized Longitude'] = df[\"Longitude\"].str[0:-1]\n",
    "df.loc[df[\"Longitude\"].str[-1] == \"W\", 'Normalized Longitude'] = \"-\" + df[\"Longitude\"].str[0:-1]\n",
    "\n",
    "df.head()"
   ]
  },
  {
   "cell_type": "code",
   "execution_count": 4,
   "id": "bb96c0d4",
   "metadata": {
    "scrolled": true
   },
   "outputs": [],
   "source": [
    "# This cell calculates solar eclipse counts for each lat/long cell of the world in 15by15 degree squares\n",
    "\n",
    "# Lat goes from -90 to 90 in groups of 15\n",
    "# Long goes from -180 to 180 in groups of 15\n",
    "\n",
    "rows, cols = (12, 24)\n",
    "solar_matrix = [[0 for i in range(cols)] for j in range(rows)]\n",
    "\n",
    "for i in range(len(df)):     \n",
    "    row = int((float(df.loc[i, \"Normalized Latitude\"]) + 90) / 15)\n",
    "    col = int((float(df.loc[i, \"Normalized Longitude\"]) + 180) / 15)\n",
    "    \n",
    "    if (row == 12):\n",
    "        row -= 1\n",
    "    if (col == 24):\n",
    "        col -= 1\n",
    "    \n",
    "    solar_matrix[row][col] += 1\n",
    "    \n",
    "formatted_solar_matrix = [[\"\" for i in range(cols)] for j in range(rows)]\n",
    "\n",
    "for row in range(rows):\n",
    "    for col in range(cols):\n",
    "        term = str(solar_matrix[row][col])\n",
    "        if len(term) == 1:\n",
    "            formatted_solar_matrix[row][col] = \"  \" + term\n",
    "        elif len(term) == 2:\n",
    "            formatted_solar_matrix[row][col] = \" \" + term\n",
    "        else:\n",
    "            formatted_solar_matrix[row][col] = term\n",
    "            \n",
    "with open('solar_matrix.txt', 'w') as testfile:\n",
    "    for row in formatted_solar_matrix:\n",
    "        testfile.write(' '.join([str(a) for a in row]) + '\\n')\n",
    "            \n",
    "    "
   ]
  },
  {
   "cell_type": "code",
   "execution_count": 18,
   "id": "9c00301d",
   "metadata": {},
   "outputs": [
    {
     "data": {
      "text/plain": [
       "(array([832., 559., 537., 547., 557., 397., 404., 355., 376., 359., 277.,\n",
       "        285., 206., 177.,  88.]),\n",
       " array([  0. ,  54.8, 109.6, 164.4, 219.2, 274. , 328.8, 383.6, 438.4,\n",
       "        493.2, 548. , 602.8, 657.6, 712.4, 767.2, 822. ]),\n",
       " <BarContainer object of 15 artists>)"
      ]
     },
     "execution_count": 18,
     "metadata": {},
     "output_type": "execute_result"
    },
    {
     "data": {
      "image/png": "[encoded data removed]",
      "text/plain": [
       "<Figure size 640x480 with 1 Axes>"
      ]
     },
     "metadata": {},
     "output_type": "display_data"
    }
   ],
   "source": [
    "res = []\n",
    "for i in range(len(df)):\n",
    "    lat = df.loc[i, \"Latitude\"]\n",
    "    if \"N\" in lat:\n",
    "        res.append(lat[0:-1])\n",
    "        \n",
    "plt.hist(res, bins=15, color='skyblue', edgecolor='black')"
   ]
  },
  {
   "cell_type": "code",
   "execution_count": 6,
   "id": "a9c350db",
   "metadata": {},
   "outputs": [],
   "source": [
    "# This cell calculates United States total solar eclipse counts for each quadrant of the country\n",
    "# Columns 0123 correspond to top left, top right, bottom left, and bottom right quadrants respectively\n",
    "# Rows 0123 correspond to Partial, Annular, Total, and Hybrid solar eclipses respectively\n",
    "\n",
    "# Lat goes from 25 to 37.5 to 50\n",
    "# Long goes from -70 to -97.5 to -125\n",
    "\n",
    "rows, cols = (4, 4)\n",
    "us_solar_matrix = [[0 for i in range(cols)] for j in range(rows)]\n",
    "\n",
    "def e_type_ref(s):\n",
    "    if \"P\" in s or \"p\" in s:\n",
    "        return 0\n",
    "    elif \"A\" in s:\n",
    "        return 1\n",
    "    elif \"T\" in s:\n",
    "        return 2\n",
    "    elif \"H\" in s:\n",
    "        return 3\n",
    "\n",
    "for i in range(len(df)):     \n",
    "    lat = float(df.loc[i, \"Normalized Latitude\"])\n",
    "    long = float(df.loc[i, \"Normalized Longitude\"])\n",
    "    e_type = df.loc[i, \"Eclipse Type\"]\n",
    "    col_index = -1\n",
    "            \n",
    "    if lat >= 25 and lat <= 37.5: # Bottom Half\n",
    "        if long >= -125 and long <= -97.5: # Left Half\n",
    "            col_index = 2\n",
    "        elif long > -97.5 and long <= -70: # Right Half\n",
    "            col_index = 3\n",
    "    elif lat > 37.5 and lat <= 50: # Top Half\n",
    "        if long >= -125 and long <= -97.5: # Left Half\n",
    "            col_index = 0\n",
    "        elif long > -97.5 and long <= -70: # Right Half\n",
    "            col_index = 1\n",
    "            \n",
    "    if col_index != -1:\n",
    "        us_solar_matrix[e_type_ref(e_type)][col_index] += 1\n",
    "            \n",
    "    \n",
    "    \n",
    "formatted_us_solar_matrix = [[\"\" for i in range(cols)] for j in range(rows)]\n",
    "\n",
    "for row in range(rows):\n",
    "    for col in range(cols):\n",
    "        term = str(us_solar_matrix[row][col])\n",
    "        if len(term) == 1:\n",
    "            formatted_us_solar_matrix[row][col] = \"  \" + term\n",
    "        elif len(term) == 2:\n",
    "            formatted_us_solar_matrix[row][col] = \" \" + term\n",
    "        else:\n",
    "            formatted_us_solar_matrix[row][col] = term\n",
    "            \n",
    "with open('us_solar_matrix.txt', 'w') as testfile:\n",
    "    for row in formatted_us_solar_matrix:\n",
    "        testfile.write(' '.join([str(a) for a in row]) + '\\n')"
   ]
  },
  {
   "cell_type": "code",
   "execution_count": 7,
   "id": "e0a5b609",
   "metadata": {
    "scrolled": true
   },
   "outputs": [
    {
     "data": {
      "text/plain": [
       "Chi2ContingencyResult(statistic=242.7011594369883, pvalue=0.6680225019352933, dof=253, expected_freq=array([[  5.98377879,   5.92284418,   6.33719953,   6.09346109,\n",
       "          5.91065725,   5.75222727,   5.99596571,   6.03252648,\n",
       "          6.1543957 ,   5.97159186,   6.09346109,   6.34938645,\n",
       "          5.83753572,   6.08127416,   5.74004034,   5.94721802,\n",
       "          6.22751723,   6.11783493,   6.21533031,   6.03252648,\n",
       "          6.21533031,   5.69129265,   6.0447134 ,   6.25189107],\n",
       "       [104.20028576, 103.13918306, 110.35468146, 106.11027063,\n",
       "        102.92696251, 100.16809548, 104.4125063 , 105.04916793,\n",
       "        107.17137334, 103.98806522, 106.11027063, 110.566902  ,\n",
       "        101.65363927, 105.89805009,  99.95587494, 103.56362414,\n",
       "        108.44469659, 106.53471172, 108.23247605, 105.04916793,\n",
       "        108.23247605,  99.10699277, 105.26138847, 108.86913767],\n",
       "       [ 24.05891747,  23.81391831,  25.47991259,  24.49991595,\n",
       "         23.76491847,  23.12792066,  24.1079173 ,  24.25491679,\n",
       "         24.74491511,  24.00991763,  24.49991595,  25.52891242,\n",
       "         23.47091948,  24.45091612,  23.07892083,  23.91191797,\n",
       "         25.0389141 ,  24.59791562,  24.98991427,  24.25491679,\n",
       "         24.98991427,  22.8829215 ,  24.30391662,  25.13691377],\n",
       "       [ 32.47747521,  32.14674735,  34.39569676,  33.07278534,\n",
       "         32.08060178,  31.22070936,  32.54362078,  32.74205749,\n",
       "         33.4035132 ,  32.41132964,  33.07278534,  34.46184233,\n",
       "         31.68372836,  33.00663977,  31.15456379,  32.27903849,\n",
       "         33.80038662,  33.20507648,  33.73424105,  32.74205749,\n",
       "         33.73424105,  30.88998151,  32.80820306,  33.93267776],\n",
       "       [ 37.55337031,  37.1709531 ,  39.77139015,  38.2417213 ,\n",
       "         37.09446966,  36.10018491,  37.62985376,  37.85930408,\n",
       "         38.62413851,  37.47688687,  38.2417213 ,  39.84787359,\n",
       "         36.635569  ,  38.16523786,  36.02370146,  37.32391999,\n",
       "         39.08303917,  38.39468818,  39.00655572,  37.85930408,\n",
       "         39.00655572,  35.71776769,  37.93578753,  39.23600605],\n",
       "       [ 40.85476551,  40.4387292 ,  43.2677761 ,  41.60363086,\n",
       "         40.35552194,  39.27382753,  40.93797277,  41.18759455,\n",
       "         42.01966717,  40.77155825,  41.60363086,  43.35098336,\n",
       "         39.85627837,  41.5204236 ,  39.19062027,  40.60514372,\n",
       "         42.51891074,  41.77004539,  42.43570348,  41.18759455,\n",
       "         42.43570348,  38.85779123,  41.27080182,  42.68532526],\n",
       "       [ 40.11195159,  39.70347958,  42.48108926,  40.84720121,\n",
       "         39.62178517,  38.55975794,  40.19364599,  40.4387292 ,\n",
       "         41.25567322,  40.03025719,  40.84720121,  42.56278366,\n",
       "         39.13161876,  40.76550681,  38.47806354,  39.86686838,\n",
       "         41.74583964,  41.01059002,  41.66414523,  40.4387292 ,\n",
       "         41.66414523,  38.15128593,  40.5204236 ,  41.90922844],\n",
       "       [ 37.59463775,  37.2118003 ,  39.81509497,  38.28374517,\n",
       "         37.13523281,  36.13985544,  37.67120524,  37.90090772,\n",
       "         38.66658262,  37.51807026,  38.28374517,  39.89166246,\n",
       "         36.67582787,  38.20717768,  36.06328795,  37.36493528,\n",
       "         39.12598756,  38.43688015,  39.04942007,  37.90090772,\n",
       "         39.04942007,  35.75701799,  37.97747521,  39.27912254],\n",
       "       [ 33.7154984 ,  33.37216339,  35.70684149,  34.33350143,\n",
       "         33.30349639,  32.41082535,  33.78416541,  33.99016641,\n",
       "         34.67683644,  33.6468314 ,  34.33350143,  35.77550849,\n",
       "         32.89149437,  34.26483443,  32.34215835,  33.50949739,\n",
       "         35.08883846,  34.47083543,  35.02017146,  33.99016641,\n",
       "         35.02017146,  32.06749033,  34.05883342,  35.22617247],\n",
       "       [ 24.38905698,  24.14069592,  25.82955119,  24.83610691,\n",
       "         24.0910237 ,  23.44528492,  24.4387292 ,  24.58774584,\n",
       "         25.08446798,  24.33938477,  24.83610691,  25.8792234 ,\n",
       "         23.79299042,  24.78643469,  23.39561271,  24.24004034,\n",
       "         25.38250126,  24.93545134,  25.33282905,  24.58774584,\n",
       "         25.33282905,  23.19692385,  24.63741805,  25.48184569],\n",
       "       [104.69549504, 103.62934947, 110.87913935, 106.61455707,\n",
       "        103.41612036, 100.64414187, 104.90872416, 105.5484115 ,\n",
       "        107.68070264, 104.48226593, 106.61455707, 111.09236847,\n",
       "        102.13674567, 106.40132795, 100.43091276, 104.0558077 ,\n",
       "        108.96007732, 107.0410153 , 108.74684821, 105.5484115 ,\n",
       "        108.74684821,  99.5779963 , 105.76164061, 109.38653555],\n",
       "       [  5.36476719,   5.31013616,   5.68162716,   5.46310304,\n",
       "          5.29920995,   5.15716927,   5.37569339,   5.40847201,\n",
       "          5.51773407,   5.35384098,   5.46310304,   5.69255337,\n",
       "          5.23365271,   5.45217684,   5.14624307,   5.33198857,\n",
       "          5.58329131,   5.48495545,   5.5723651 ,   5.40847201,\n",
       "          5.5723651 ,   5.10253824,   5.41939822,   5.60514372]]))"
      ]
     },
     "execution_count": 7,
     "metadata": {},
     "output_type": "execute_result"
    }
   ],
   "source": [
    "sci.stats.chi2_contingency(solar_matrix)"
   ]
  },
  {
   "cell_type": "code",
   "execution_count": 8,
   "id": "82aeddda",
   "metadata": {},
   "outputs": [
    {
     "data": {
      "text/plain": [
       "F_onewayResult(statistic=706.7665019914394, pvalue=5.294355553665398e-195)"
      ]
     },
     "execution_count": 8,
     "metadata": {},
     "output_type": "execute_result"
    }
   ],
   "source": [
    "# This cell performs a one way anova with each set of latitude counts\n",
    "sci.stats.f_oneway(solar_matrix[0], solar_matrix[1], solar_matrix[2], \n",
    "                   solar_matrix[3], solar_matrix[4], solar_matrix[5], \n",
    "                   solar_matrix[6], solar_matrix[7], solar_matrix[8],\n",
    "                   solar_matrix[9], solar_matrix[10], solar_matrix[11])"
   ]
  },
  {
   "cell_type": "code",
   "execution_count": null,
   "id": "12dcb732",
   "metadata": {},
   "outputs": [],
   "source": []
  },
  {
   "cell_type": "code",
   "execution_count": 9,
   "id": "13ea80e2",
   "metadata": {
    "scrolled": true
   },
   "outputs": [
    {
     "data": {
      "text/plain": [
       "Chi2ContingencyResult(statistic=2.912160158180919, pvalue=0.8197882008167738, dof=6, expected_freq=array([[24.77142857, 23.31428571, 24.77142857, 29.14285714],\n",
       "       [23.8       , 22.4       , 23.8       , 28.        ],\n",
       "       [ 2.42857143,  2.28571429,  2.42857143,  2.85714286]]))"
      ]
     },
     "execution_count": 9,
     "metadata": {},
     "output_type": "execute_result"
    }
   ],
   "source": [
    "# Ignore the first row because there are no records for US partial solar eclipses\n",
    "sci.stats.chi2_contingency(us_solar_matrix[1:])"
   ]
  },
  {
   "cell_type": "code",
   "execution_count": 10,
   "id": "dd6a9f7d",
   "metadata": {},
   "outputs": [],
   "source": [
    "# This cell performs a 2 sample t test to compare the mean \n",
    "# path width for northern hemisphere and southern hemisphere eclipses\n",
    "\n",
    "\n",
    "north_path_width = []\n",
    "south_path_width = []\n",
    "east_path_width = []\n",
    "west_path_width = []\n",
    "\n",
    "for i in range(len(df)):        \n",
    "    lat = float(df.loc[i, \"Normalized Latitude\"])\n",
    "    path_width = str(df.loc[i, \"Path Width (km)\"])\n",
    "    \n",
    "    if not path_width.isnumeric():\n",
    "        continue\n",
    "        \n",
    "    path_width = float(path_width)\n",
    "    \n",
    "    if lat > 0:\n",
    "        north_path_width.append(path_width)\n",
    "    else:\n",
    "        south_path_width.append(path_width)\n",
    "        \n",
    "for i in range(len(df)):        \n",
    "    long = float(df.loc[i, \"Normalized Longitude\"])\n",
    "    path_width = str(df.loc[i, \"Path Width (km)\"])\n",
    "    \n",
    "    if not path_width.isnumeric():\n",
    "        continue\n",
    "        \n",
    "    path_width = float(path_width)\n",
    "    \n",
    "    if long > 0:\n",
    "        east_path_width.append(path_width)\n",
    "    else:\n",
    "        west_path_width.append(path_width)"
   ]
  },
  {
   "cell_type": "code",
   "execution_count": 11,
   "id": "5d823163",
   "metadata": {},
   "outputs": [
    {
     "data": {
      "text/plain": [
       "TtestResult(statistic=-1.4853131279917007, pvalue=0.1375028557020733, df=7512.360162009298)"
      ]
     },
     "execution_count": 11,
     "metadata": {},
     "output_type": "execute_result"
    }
   ],
   "source": [
    "sci.stats.ttest_ind(north_path_width, south_path_width, equal_var=False)"
   ]
  },
  {
   "cell_type": "code",
   "execution_count": 12,
   "id": "28d97f31",
   "metadata": {},
   "outputs": [
    {
     "data": {
      "text/plain": [
       "TtestResult(statistic=-0.9520308062835232, pvalue=0.3411120598019106, df=7494.685344087569)"
      ]
     },
     "execution_count": 12,
     "metadata": {},
     "output_type": "execute_result"
    }
   ],
   "source": [
    "sci.stats.ttest_ind(east_path_width, west_path_width, equal_var=False)"
   ]
  },
  {
   "cell_type": "code",
   "execution_count": 13,
   "id": "d2615ae4",
   "metadata": {
    "scrolled": true
   },
   "outputs": [
    {
     "data": {
      "text/plain": [
       "Text(0, 0.5, 'Frequency')"
      ]
     },
     "execution_count": 13,
     "metadata": {},
     "output_type": "execute_result"
    },
    {
     "data": {
      "image/png": "[encoded data removed]",
      "text/plain": [
       "<Figure size 640x480 with 1 Axes>"
      ]
     },
     "metadata": {},
     "output_type": "display_data"
    }
   ],
   "source": [
    "result_lats = []\n",
    "for i in range(len(df)):     \n",
    "    la = float(df.loc[i, \"Normalized Latitude\"])\n",
    "    result_lats.append(la)\n",
    "    \n",
    "plt.hist(result_lats, bins=30, color='skyblue', edgecolor='black')\n",
    "plt.title(\"Histogram of Solar Eclipse Frequency by Latitude\")\n",
    "plt.xlabel(\"Latitude (+N/-S)\")\n",
    "plt.ylabel(\"Frequency\")"
   ]
  },
  {
   "cell_type": "code",
   "execution_count": 14,
   "id": "bc958637",
   "metadata": {},
   "outputs": [
    {
     "data": {
      "text/plain": [
       "Text(0, 0.5, 'Frequency')"
      ]
     },
     "execution_count": 14,
     "metadata": {},
     "output_type": "execute_result"
    },
    {
     "data": {
      "image/png": "[encoded data removed]",
      "text/plain": [
       "<Figure size 640x480 with 1 Axes>"
      ]
     },
     "metadata": {},
     "output_type": "display_data"
    }
   ],
   "source": [
    "result_longs = []\n",
    "for i in range(len(df)):     \n",
    "    lo = float(df.loc[i, \"Normalized Longitude\"])\n",
    "    result_longs.append(lo)\n",
    "    \n",
    "plt.hist(result_longs, bins=15, color='skyblue', edgecolor='black')\n",
    "plt.title(\"Histogram of Solar Eclipse Frequency by Longitude\")\n",
    "plt.xlabel(\"Longitude (+E/-W)\")\n",
    "plt.ylabel(\"Frequency\")"
   ]
  }
 ],
 "metadata": {
  "kernelspec": {
   "display_name": "Python 3 (ipykernel)",
   "language": "python",
   "name": "python3"
  },
  "language_info": {
   "codemirror_mode": {
    "name": "ipython",
    "version": 3
   },
   "file_extension": ".py",
   "mimetype": "text/x-python",
   "name": "python",
   "nbconvert_exporter": "python",
   "pygments_lexer": "ipython3",
   "version": "3.11.5"
  }
 },
 "nbformat": 4,
 "nbformat_minor": 5
}
